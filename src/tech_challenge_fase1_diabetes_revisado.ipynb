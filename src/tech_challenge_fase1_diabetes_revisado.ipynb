{
 "cells": [
  {
   "cell_type": "markdown",
   "id": "a1a2bf16",
   "metadata": {},
   "source": [
    "# Tech Challenge - Fase 1: Análise Preditiva de Diabetes\n",
    "\n",
    "## Introdução\n",
    "\n",
    "### 🎯 **Objetivo do Projeto**:\n",
    "\n",
    "Desenvolver um modelo de Machine Learning que estime a probabilidade de um paciente apresentar diabetes, com base em variáveis clínicas e fisiológicas. O propósito é apoiar o diagnóstico precoce, contribuindo para o tratamento preventivo e a melhoria da qualidade de vida dos pacientes.\n",
    "\n",
    "### 📌 Problema de Negócio:\n",
    "\n",
    "O diabetes é uma condição crônica que pode levar a complicações severas se não diagnosticada e tratada a tempo. O desenvolvimento de um sistema preditivo pode auxiliar na triagem de pacientes em risco, otimizando a priorização de atendimentos e o uso de recursos médicos, sobretudo em contextos de alta demanda.\n",
    "\n",
    "### 📊 Dataset:\n",
    "\n",
    "Foi utilizado o [Diabetes Dataset](https://www.kaggle.com/datasets/mathchi/diabetes-data-set/data) do [Kaggle](https://www.kaggle.com), amplamente adotado em benchmarks de classificação. Ele contém dados de pacientes do sexo feminino, com mais de 21 anos, da etnia Pima (grupo indígena norte-americano), o que pode implicar em viés populacional, exigindo cuidado ao generalizar os resultados para outras populações.\n",
    "\n",
    "### 🧪 Metodologia:\n",
    "\n",
    "**1 - Análise e Limpeza dos Dados:**\n",
    "Verificação de valores ausentes, inconsistentes (como zeros em variáveis clínicas) e preparação do dataset para modelagem.\n",
    "\n",
    "**2 - Análise Exploratória de Dados (EDA):**\n",
    "Visualizações para explorar correlações, distribuição de variáveis, e sua relação com o desfecho (presença de diabetes).\n",
    "\n",
    "**3 - Pré-processamento e Modelagem:**\n",
    "Aplicação de técnicas de normalização, tratamento de desbalanceamento de classes, divisão em conjuntos de treino e teste, e treinamento de modelos de classificação.\n",
    "\n",
    "**4 - Avaliação e Interpretação:**\n",
    "Uso de métricas como AUC, F1-score e matriz de confusão para avaliar a performance, com análise interpretativa para extração de insights."
   ]
  },
  {
   "cell_type": "markdown",
   "id": "27e145c8",
   "metadata": {},
   "source": [
    "## 1. Importação das Bibliotecas\n",
    "\n",
    "Importar bibliotecas é uma etapa crucial e deve ser feita de forma organizada, categorizando-as por tipo:"
   ]
  },
  {
   "cell_type": "code",
   "execution_count": null,
   "id": "bbab69d4",
   "metadata": {},
   "outputs": [],
   "source": [
    "# Importação das bibliotecas essenciais para análise e visualização de dados\n",
    "\n",
    "# pandas e numpy: manipulação e análise de dados\n",
    "import pandas as pd\n",
    "import numpy as np\n",
    "\n",
    "# matplotlib e seaborn: visualização gráfica\n",
    "import matplotlib.pyplot as plt\n",
    "import seaborn as sns\n",
    "\n",
    "# Pré-processamento e modelagem\n",
    "from sklearn.model_selection import train_test_split\n",
    "from sklearn.preprocessing import StandardScaler\n",
    "from sklearn.impute import SimpleImputer\n",
    "from sklearn.linear_model import LogisticRegression\n",
    "from sklearn.tree import DecisionTreeClassifier\n",
    "\n",
    "# Avaliação\n",
    "from sklearn.metrics import classification_report, confusion_matrix, accuracy_score, recall_score, f1_score\n",
    "\n",
    "# Configurações de visualização\n",
    "sns.set_style('whitegrid')\n",
    "plt.rcParams['figure.figsize'] = (12, 7)"
   ]
  },
  {
   "cell_type": "markdown",
   "id": "99cb1aec",
   "metadata": {},
   "source": [
    "## 2. Carregamento e Análise Inicial dos Dados\n",
    "\n",
    "Nesta etapa realizamos o carregamento dos dados e executamos análises preliminares para entender sua estrutura, possíveis inconsistências e características estatísticas gerais. Essa é uma prática fundamental para nortear as próximas fases do projeto.\n",
    "\n",
    "Esta seção permanece a mesma. Carregamos os dados e exploramos suas características, confirmando o desbalanceamento das classes."
   ]
  },
  {
   "cell_type": "code",
   "execution_count": null,
   "id": "18be08e8",
   "metadata": {},
   "outputs": [],
   "source": [
    "# Carregando a base de dados'\n",
    "df = pd.read_csv('https://raw.githubusercontent.com/antrafa/fiap-tech-challenge-6IADT/refs/heads/main/src/diabetes.csv')\n",
    "df.head()"
   ]
  },
  {
   "cell_type": "markdown",
   "id": "9ae93af2",
   "metadata": {},
   "source": [
    "| Coluna                    | Descrição                                                                                                                 |\n",
    "|---------------------------|---------------------------------------------------------------------------------------------------------------------------|\n",
    "| Pregnancies               | Número de vezes que a paciente esteve grávida.                                                                            |\n",
    "| Glucose                   | Concentração de glicose no plasma 2 horas após um teste oral de tolerância à glicose.                                     |\n",
    "| BloodPressure             | Pressão arterial diastólica (mm Hg).                                                                                      |\n",
    "| SkinThickness             | Espessura da dobra cutânea do tríceps (mm).                                                                               |\n",
    "| Insulin                   | Nível de insulina no soro após 2 horas (mu U/ml).                                                                         |\n",
    "| BMI                       | Índice de Massa Corporal (calculado como peso em kg / (altura em m)²).                                                    |\n",
    "| DiabetesPedigreeFunction  | Função de pedigree de diabetes, que representa uma pontuação da probabilidade de diabetes com base no histórico familiar. |\n",
    "| Age                       | Idade da paciente (em anos).                                                                                              |\n",
    "| Outcome **(Alvo)**        | Variável alvo que indica o diagnóstico (0 = Não Diabético, 1 = Diabético).                                                |"
   ]
  },
  {
   "cell_type": "code",
   "execution_count": null,
   "id": "31c1f26b",
   "metadata": {},
   "outputs": [],
   "source": [
    "# Verifica o número de linhas e colunas do dataset\n",
    "df.shape"
   ]
  },
  {
   "cell_type": "markdown",
   "id": "166752a1",
   "metadata": {},
   "source": [
    "🔢 Tamanho do Dataset:\n",
    "O dataset contém **768 registros e 9 variáveis**. Esse volume é considerado moderado para tarefas de classificação supervisionada. Ele permite experimentação ágil com algoritmos de aprendizado de máquina, mantendo tempos de treinamento e validação curtos. No entanto, **a qualidade e o balanceamento das classes** são aspectos críticos que devem ser verificados para garantir que os modelos não fiquem enviesados ou superajustados."
   ]
  },
  {
   "cell_type": "code",
   "execution_count": null,
   "id": "1b6d8539",
   "metadata": {},
   "outputs": [],
   "source": [
    "# Traz informações estruturais como tipos de dados e contagem de valores não nulos\n",
    "df.info()"
   ]
  },
  {
   "cell_type": "markdown",
   "id": "9ea3df50",
   "metadata": {},
   "source": [
    "🔍 Análise Inicial\n",
    "O dataset não apresenta valores nulos (`null`) **explícitos**, conforme identificado na inspeção com df.`info()`. No entanto, uma análise estatística com `df.describe()` revela **inconsistências fisiológicas graves**."
   ]
  },
  {
   "cell_type": "code",
   "execution_count": null,
   "id": "8205cef3",
   "metadata": {},
   "outputs": [],
   "source": [
    "df.describe()"
   ]
  },
  {
   "cell_type": "markdown",
   "id": "63cbcd89",
   "metadata": {},
   "source": [
    "**⚠️ Problema Crítico: Dados Ausentes Mascarados como Zeros**\n",
    "\n",
    "As colunas:\n",
    "\n",
    "- `Glucose` (glicose)\n",
    "- `BloodPressure` (pressão arterial diastólica)\n",
    "- `SkinThickness` (espessura da pele)\n",
    "- `Insulin` (nível de insulina)\n",
    "- `BMI` (índice de massa corporal)\n",
    "\n",
    "apresentam valores mínimos iguais a `0`. Do ponto de vista clínico, `não é possível` que essas variáveis fisiológicas assumam valor zero em uma pessoa viva. Portanto, esses zeros não representam medidas reais, mas sim `valores ausentes codificados incorretamente` - o que é uma prática comum em alguns datasets médicos antigos."
   ]
  },
  {
   "cell_type": "markdown",
   "id": "7d7f97c6",
   "metadata": {},
   "source": [
    "## 3. Limpeza e Pré-processamento dos Dados"
   ]
  },
  {
   "cell_type": "markdown",
   "id": "dec7cc35",
   "metadata": {},
   "source": [
    "### 3.1 🔧 Tratamento de Valores Inconsistentes (Zeros)\n",
    "\n",
    "Nas colunas `Glucose`, `BloodPressure`, `SkinThickness`, `Insulin` e `BMI`, os valores 0 representam dados ausentes que foram registrados de forma inadequada. Para tratá-los corretamente, vamos:\n",
    "\n",
    "**1 - Substituir os zeros por `NaN` (Not a Number)** – que é a convenção do pandas para representar dados faltantes.\n",
    "\n",
    "**2 - Imputar os valores ausentes com a mediana de cada coluna** – a mediana é resistente a outliers e fornece uma medida central mais confiável para variáveis com distribuição assimétrica.\n",
    "\n",
    "Essa abordagem garante que os modelos de machine learning não sejam influenciados por dados irrealistas e que a integridade estatística das variáveis seja preservada."
   ]
  },
  {
   "cell_type": "code",
   "execution_count": null,
   "id": "fc3a2412",
   "metadata": {},
   "outputs": [],
   "source": [
    "cols_to_clean = ['Glucose', 'BloodPressure', 'SkinThickness', 'Insulin', 'BMI']\n",
    "df[cols_to_clean] = df[cols_to_clean].replace(0, np.nan)\n",
    "\n",
    "print(\"Contagem de valores nulos APÓS substituir os zeros:\")\n",
    "df.isnull().sum()"
   ]
  },
  {
   "cell_type": "markdown",
   "id": "1bda7e66",
   "metadata": {},
   "source": [
    "**📌 Importante:**\n",
    "Esse procedimento revela que a aparente ausência de valores nulos no dataset era, na verdade, um **falso negativo**. Após substituir os zeros por `NaN`, a presença de dados ausentes torna-se explícita e pode ser corretamente tratada. Esse tipo de verificação é essencial em datasets clínicos, onde registros \"zero\" muitas vezes ocultam informações faltantes."
   ]
  },
  {
   "cell_type": "code",
   "execution_count": null,
   "id": "7ac4755e",
   "metadata": {},
   "outputs": [],
   "source": [
    "# Preenchendo os valores NaN com a mediana de cada coluna\n",
    "imputer = SimpleImputer(strategy='median')\n",
    "df_imputed = pd.DataFrame(imputer.fit_transform(df), columns=df.columns)\n",
    "\n",
    "print(\"Verificação de nulos APÓS imputação:\")\n",
    "print(df_imputed.isnull().sum().sum())\n",
    "\n",
    "print(\"\\nEstatísticas descritivas do dataset limpo:\")\n",
    "display(df_imputed.describe())"
   ]
  },
  {
   "cell_type": "markdown",
   "id": "5d8849d4",
   "metadata": {},
   "source": [
    "---\n",
    "\n",
    "## 4. Análise Exploratória de Dados (EDA)"
   ]
  },
  {
   "cell_type": "markdown",
   "id": "d6be78c8",
   "metadata": {},
   "source": [
    "### 4.1 📊 Análise da Variável Alvo (`Outcome`)\n",
    "\n",
    "Nesta etapa, analisamos a distribuição da variável-alvo Outcome, onde:\n",
    "\n",
    "- `0` representa indivíduos não diabéticos\n",
    "\n",
    "- `1` representa indivíduos diabéticos"
   ]
  },
  {
   "cell_type": "code",
   "execution_count": null,
   "id": "faa26429",
   "metadata": {},
   "outputs": [],
   "source": [
    "plt.figure(figsize=(8, 6))\n",
    "sns.countplot(x='Outcome', data=df_imputed, palette='viridis')\n",
    "plt.title('Distribuição da Variável Alvo (Outcome)', fontsize=16)\n",
    "plt.xticks([0, 1], ['Não Diabético', 'Diabético'])\n",
    "plt.show()\n",
    "print(df_imputed['Outcome'].value_counts(normalize=True))"
   ]
  },
  {
   "cell_type": "markdown",
   "id": "4b3226cc",
   "metadata": {},
   "source": [
    "**⚖️ Balanceamento de Classes**\n",
    "\n",
    "O dataset apresenta uma distribuição de aproximadamente **65% de não diabéticos** e **35% de diabéticos**. Apesar de não ser um desbalanceamento extremo, ele **pode impactar negativamente o desempenho de algoritmos de classificação**, especialmente aqueles que buscam maximizar a acurácia global.\n",
    "\n",
    "**📌 Recomendação:**\n",
    "\n",
    "Utilizar técnicas que considerem o desbalanceamento, como:\n",
    "\n",
    "- Ajuste de pesos com `class_weight='balanced'` em modelos como `LogisticRegression` e `RandomForest`\n",
    "- Técnicas de oversampling (ex: `SMOTE`) ou undersampling"
   ]
  },
  {
   "cell_type": "markdown",
   "id": "266a5622",
   "metadata": {},
   "source": [
    "### 4.2 Matriz de Correlação"
   ]
  },
  {
   "cell_type": "code",
   "execution_count": null,
   "id": "9a404687",
   "metadata": {},
   "outputs": [],
   "source": [
    "plt.figure(figsize=(8, 6))\n",
    "sns.heatmap(df_imputed.corr(), annot=True, cmap='coolwarm', fmt='.2f')\n",
    "plt.title('Mapa de Calor de Correlação', fontsize=16)\n",
    "plt.show()"
   ]
  },
  {
   "cell_type": "markdown",
   "id": "ddbb221f",
   "metadata": {},
   "source": [
    "**📈 Correlação com a Variável Alvo**\n",
    "\n",
    "A matriz de correlação indica as seguintes variáveis com maior associação com o diagnóstico de diabetes (`Outcome`):\n",
    "\n",
    "- `Glucose`: **0.49** — forte correlação positiva, o que é esperado dado o contexto clínico\n",
    "- `BMI`: **0.31** — relação positiva indicando que maior IMC está associado à diabetes\n",
    "- `Age`: **0.24** — tendência crescente de risco com o avanço da idade\n",
    "\n",
    "Além disso, observamos que:\n",
    "\n",
    "`Pregnancies` e `Age` apresentam correlação moderada entre si (**0.54**), o que pode refletir um efeito demográfico — mulheres com mais idade tendem a ter tido mais gestações."
   ]
  },
  {
   "cell_type": "markdown",
   "id": "4897a299",
   "metadata": {},
   "source": [
    "### 4.3 🔍 Análise Multivariada (Cruzamento de Variáveis)"
   ]
  },
  {
   "cell_type": "code",
   "execution_count": null,
   "id": "82e8ac73",
   "metadata": {},
   "outputs": [],
   "source": [
    "df.hist(figsize=(20, 15), bins=15, color='skyblue', edgecolor='black')\n",
    "plt.suptitle('Distribuição das Variáveis do Dataset', size=24)\n",
    "plt.tight_layout(rect=[0, 0, 1, 0.96])\n",
    "plt.show()"
   ]
  },
  {
   "cell_type": "markdown",
   "id": "3aae7680",
   "metadata": {},
   "source": [
    "Visualizações multivariadas são essenciais para compreender **relações não-lineares e interações entre variáveis** que podem ser cruciais para a modelagem preditiva."
   ]
  },
  {
   "cell_type": "code",
   "execution_count": null,
   "id": "8702757d",
   "metadata": {},
   "outputs": [],
   "source": [
    "# Gráfico 1: Glicose vs. IMC, colorido pelo Diagnóstico\n",
    "plt.figure(figsize=(14, 8))\n",
    "sns.scatterplot(data=df_imputed, x='Glucose', y='BMI', hue='Outcome', palette='seismic', alpha=0.7)\n",
    "plt.title('Relação entre Glicose, IMC e Diagnóstico de Diabetes', fontsize=16)\n",
    "plt.xlabel('Nível de Glicose')\n",
    "plt.ylabel('Índice de Massa Corporal (IMC)')\n",
    "leg = plt.legend()\n",
    "leg.get_texts()[0].set_text('Não Diabético')\n",
    "leg.get_texts()[1].set_text('Diabético')\n",
    "plt.show()"
   ]
  },
  {
   "cell_type": "markdown",
   "id": "773ed80d",
   "metadata": {},
   "source": [
    "**📌 Análise do Gráfico 1: Glicose vs. IMC colorido por `Outcome`**\n",
    "\n",
    "Este gráfico revela um padrão bastante claro:\n",
    "- Pontos vermelhos (diabéticos) estão majoritariamente concentrados nas regiões de alta glicose e alto IMC\n",
    "- Já os não diabéticos tendem a se concentrar em áreas de valores mais baixos dessas variáveis\n",
    "\n",
    "**💡 Interpretação:**\n",
    "A combinação de glicose elevada e IMC elevado é um forte indicador de risco de diabetes.\n",
    "Apesar de haver alguma sobreposição entre as classes (o que é comum em dados reais), o padrão geral é bastante evidente."
   ]
  },
  {
   "cell_type": "code",
   "execution_count": null,
   "id": "7e386ce8",
   "metadata": {},
   "outputs": [],
   "source": [
    "# Gráfico 2\n",
    "g = sns.lmplot(data=df_imputed, x='Age', y='BloodPressure', hue='Outcome', \n",
    "    palette='magma', height=7, aspect=1.5,\n",
    "    scatter_kws={'alpha':0.5})\n",
    "g.fig.suptitle('Tendência da Pressão Sanguínea com a Idade por Diagnóstico', y=1.02, fontsize=16)\n",
    "g.set_axis_labels(\"Idade\", \"Pressão Sanguínea\")\n",
    "plt.show()"
   ]
  },
  {
   "cell_type": "markdown",
   "id": "3b79beb2",
   "metadata": {},
   "source": [
    "**📌 Análise do Gráfico 2: Pressão Arterial vs. Idade, segmentado por `Outcome`**\n",
    "\n",
    "Este gráfico analisa a relação entre idade e pressão arterial diastólica (`BloodPressure`), diferenciando os indivíduos diabéticos e não diabéticos por cores.\n",
    "\n",
    "**🧭 Pontos-chave da análise:**\n",
    "- Para **ambos os grupos**, há uma **tendência de aumento da pressão arterial com o avanço da idade**, como indicado pelas **linhas de regressão com inclinação positiva**.\n",
    "\n",
    "- A **distribuição dos pontos para o grupo diabético (representado em roxo escuro)** tende a se concentrar **ligeiramente acima da média** dos não diabéticos em praticamente toda a faixa etária — especialmente a partir dos 40 anos.\n",
    "\n",
    "**💡 Interpretação:**\n",
    "Esse comportamento está em linha com evidências clínicas, que apontam que a hipertensão é um fator de risco comum e frequentemente associado à diabetes tipo 2. O gráfico sugere que indivíduos diabéticos, em geral, apresentam pressão arterial mais elevada, especialmente em idades mais avançadas.\n",
    "\n",
    "**⚠️ Observação importante:**\n",
    "A correlação entre `BloodPressure` e `Age` pode não ser forte isoladamente, mas a **interação entre essas variáveis pode carregar sinal preditivo** que deve ser explorado em modelos mais complexos ou na engenharia de variáveis (ex: criar uma feature combinada ou não linear)."
   ]
  },
  {
   "cell_type": "code",
   "execution_count": null,
   "id": "26a04b38",
   "metadata": {},
   "outputs": [],
   "source": [
    "# Gráfico 3\n",
    "plt.figure(figsize=(16, 8))\n",
    "sns.boxplot(data=df_imputed, x='Pregnancies', y='DiabetesPedigreeFunction', hue='Outcome', palette='Set2')\n",
    "plt.title('Predisposição Genética vs. Número de Gestações', fontsize=16)\n",
    "plt.xlabel('Número de Gestações')\n",
    "plt.ylabel('Função de Predisposição ao Diabetes')\n",
    "plt.show()"
   ]
  },
  {
   "cell_type": "markdown",
   "id": "6cb9e6ca",
   "metadata": {},
   "source": [
    "**📌 Análise do Gráfico 3:** `DiabetesPedigreeFunction` vs. `Pregnancies`, **segmentado por `Outcome`**\n",
    "Este gráfico utiliza boxplots para representar a distribuição da variável DiabetesPedigreeFunction (medida de predisposição genética) ao longo dos diferentes valores de Pregnancies (número de gestações), separando os grupos diabéticos e não diabéticos.\n",
    "\n",
    "**🧬 Contexto da variável:**\n",
    "A `DiabetesPedigreeFunction` combina informações genéticas e familiares para estimar o grau de risco hereditário de desenvolver diabetes. Valores mais altos indicam maior predisposição genética.\n",
    "\n",
    "**📊 Principais observações:**\n",
    "\n",
    "- Para **quase todos os valores de `Pregnancies`**, a mediana da `DiabetesPedigreeFunction` é **visivelmente maior** no grupo diabético (representado pelas **caixas laranjas**), em comparação ao grupo não diabético (caixas azuis, por exemplo).\n",
    "- Isso sugere que a **predisposição genética é um fator de risco significativo, independente do número de gestações**.\n",
    "\n",
    "**💡 Interpretação:**\n",
    "Este padrão reforça a ideia de que a **hereditariedade tem um papel importante no desenvolvimento do diabetes tipo 2**, e que esse fator de risco se manifesta consistentemente em diferentes subgrupos populacionais (ex: mulheres com diferentes históricos de gestações).\n",
    "\n",
    "**⚠️ Relevância para modelagem:**\n",
    "A variável `DiabetesPedigreeFunction`, embora frequentemente subestimada por ter distribuição assimétrica e valores baixos, **carrega sinal preditivo relevante** e deve ser mantida no conjunto de variáveis do modelo, especialmente em classificadores que conseguem capturar interações não lineares."
   ]
  },
  {
   "cell_type": "markdown",
   "id": "7e43b571",
   "metadata": {},
   "source": [
    "### Bônus - Análise detalhada utilizando Pandas Profiling"
   ]
  },
  {
   "cell_type": "code",
   "execution_count": null,
   "id": "1a5f75f8",
   "metadata": {},
   "outputs": [],
   "source": [
    "from ydata_profiling import ProfileReport\n",
    "profile = ProfileReport(df, title=\"Relatório de Análise de Diabetes\")\n",
    "# profile.to_notebook_iframe()\n",
    "profile.to_file(\"./diabetes_report.html\")"
   ]
  },
  {
   "cell_type": "markdown",
   "id": "9f1424b6",
   "metadata": {},
   "source": [
    "## 5. Pré-processamento Final e Modelagem"
   ]
  },
  {
   "cell_type": "markdown",
   "id": "db079973",
   "metadata": {},
   "source": [
    "#### Divisão em treino e teste com estratificação"
   ]
  },
  {
   "cell_type": "code",
   "execution_count": null,
   "id": "496a866a",
   "metadata": {},
   "outputs": [],
   "source": [
    "X = df_imputed.drop('Outcome', axis=1)\n",
    "y = df_imputed['Outcome']\n",
    "\n",
    "X_train, X_test, y_train, y_test = train_test_split(X, y, test_size=0.2, random_state=42, stratify=y)"
   ]
  },
  {
   "cell_type": "markdown",
   "id": "d827edb9",
   "metadata": {},
   "source": [
    "### ⚙️ Normalização dos Dados (Padronização)\n",
    "\n",
    "Antes de treinarmos nossos modelos, é essencial realizar o pré-processamento dos dados. Neste caso, adotamos a técnica de padronização, que é especialmente indicada quando usamos algoritmos sensíveis à escala dos dados, como Regressão Logística, SVM e Redes Neurais.\n",
    "\n",
    "\n",
    "#### 🧠 Por que a padronização é necessária?\n",
    "\n",
    "Nosso dataset contém variáveis com escalas muito diferentes:\n",
    "\n",
    "- `Glucose` pode atingir valores acima de **150**\n",
    "- `DiabetesPedigreeFunction` normalmente fica abaixo de **1.0**\n",
    "\n",
    "Algoritmos baseados em distância (como KNN, SVM e PCA) ou métodos lineares (como regressão logística) **não sabem diferenciar entre escala e importância estatística**. Isso significa que **variáveis com maiores magnitudes numéricas podem dominar o processo de aprendizado**, mesmo que não sejam mais relevantes para a predição.\n",
    "\n",
    "#### 💡 Consequência:\n",
    "Sem padronização, o modelo pode:\n",
    "\n",
    "- Convergir mais lentamente durante o treinamento\n",
    "- Gerar coeficientes enviesados\n",
    "- Subestimar variáveis com menor escala, mesmo que altamente preditivas\n",
    "\n",
    "#### 🧪 O que significa padronizar?\n",
    "A padronização transforma cada variável para que tenha:\n",
    "\n",
    "- Média = 0\n",
    "- Desvio padrão = 1\n",
    "\n",
    "Ou seja, todas as variáveis passam a estar na mesma régua estatística, o que permite ao modelo tratá-las de forma justa.\n",
    "\n",
    "#### 🧰 Como foi feito no código?\n",
    "\n",
    "Utilizamos a classe StandardScaler da biblioteca Scikit-learn, que é o método padrão para padronização z-score:\n",
    "\n",
    "```python\n",
    "from sklearn.preprocessing import StandardScaler\n",
    "\n",
    "# 1. Instanciamos o objeto\n",
    "scaler = StandardScaler()\n",
    "\n",
    "# 2. Ajustamos e transformamos os dados de treino\n",
    "X_train_scaled = scaler.fit_transform(X_train)\n",
    "\n",
    "# 3. Aplicamos a mesma transformação nos dados de teste\n",
    "X_test_scaled = scaler.transform(X_test)\n",
    "```\n",
    "\n",
    "#### 🔍 Detalhes importantes:\n",
    "\n",
    "- `fit_transform(X_train)`:\n",
    "  - `fit`: o scaler aprende os parâmetros (média e desvio padrão) usando apenas os dados de treino\n",
    "  - `transform`: aplica a transformação de fato\n",
    "- `transform(X_test)`:\n",
    "  - Apenas aplica a mesma transformação sem recalcular os parâmetros, garantindo que o modelo não \"vaze informação\" do teste para o treino (o famoso data leakage)\n",
    "\n",
    "#### 📌 Boa prática:\n",
    "Nunca use `.fit()` nos dados de teste! Isso invalida a avaliação do modelo, pois simula um cenário irreal em que você já conhecia os dados antes da previsão."
   ]
  },
  {
   "cell_type": "code",
   "execution_count": null,
   "id": "6e6bce9c",
   "metadata": {},
   "outputs": [],
   "source": [
    "scaler = StandardScaler()\n",
    "X_train_scaled = scaler.fit_transform(X_train)\n",
    "X_test_scaled = scaler.transform(X_test)"
   ]
  },
  {
   "cell_type": "markdown",
   "id": "953a40bb",
   "metadata": {},
   "source": [
    "### 5.1 🤖 Treinamento dos Modelos com Balanceamento de Classes\n",
    "\n",
    "Com o pré-processamento concluído (valores inconsistentes tratados, variáveis padronizadas), estamos prontos para treinar nossos modelos.\n",
    "\n",
    "O objetivo aqui é desenvolver **algoritmos capazes de aprender os padrões ocultos nos dados de treino (`X_train_scaled`)** e realizar **previsões confiáveis nos dados de teste (`X_test_scaled`)**, que simulam pacientes novos, fora da amostra.\n",
    "\n",
    "\n",
    "#### ⚖️ **Por que balancear as classes?**\n",
    "\n",
    "O dataset apresenta um desbalanceamento moderado:  \n",
    "- **65% de pacientes não diabéticos (`Outcome = 0`)**  \n",
    "- **35% de pacientes diabéticos (`Outcome = 1`)**\n",
    "\n",
    "Embora esse desbalanceamento não seja extremo, ele **pode induzir o modelo a favorecer a classe majoritária**, levando a uma alta acurácia aparente, mas com baixa sensibilidade (recall) para a classe minoritária — justamente os pacientes diabéticos, que são os casos mais importantes de identificar corretamente.\n",
    "\n",
    "💡 **Exemplo de risco:** Um modelo que prevê \"não diabético\" para todos os pacientes teria 65% de acurácia... e seria completamente inútil.\n",
    "\n",
    "\n",
    "#### 🧰 **Solução adotada: `class_weight='balanced'`**\n",
    "\n",
    "Ao definirmos `class_weight='balanced'` em modelos como `LogisticRegression`, `RandomForestClassifier` ou `SVC`, instruímos o algoritmo a:\n",
    "\n",
    "- **Atribuir mais peso à classe minoritária (`1` – diabéticos)**\n",
    "- **Reduzir o peso da classe majoritária (`0` – não diabéticos)**\n",
    "\n",
    "Essa estratégia força o modelo a considerar ambas as classes de forma equilibrada durante o processo de aprendizado.\n",
    "\n",
    "📌 **Benefícios:**\n",
    "- Reduz viés para a classe dominante\n",
    "- Melhora métricas como *recall* e *f1-score* da classe minoritária\n",
    "- Dispensa a necessidade inicial de técnicas de oversampling ou undersampling"
   ]
  },
  {
   "cell_type": "markdown",
   "id": "8f484f69",
   "metadata": {},
   "source": [
    "#### **5.1.1. Modelo 1: Regressão Logística**"
   ]
  },
  {
   "cell_type": "code",
   "execution_count": null,
   "id": "0ec26845",
   "metadata": {},
   "outputs": [],
   "source": [
    "log_reg = LogisticRegression(random_state=42, class_weight='balanced')\n",
    "log_reg.fit(X_train_scaled, y_train)"
   ]
  },
  {
   "cell_type": "markdown",
   "id": "f0c0f87a",
   "metadata": {},
   "source": [
    "#### **5.1.2. Modelo 2: Árvore de Decisão Balanceada**"
   ]
  },
  {
   "cell_type": "code",
   "execution_count": null,
   "id": "8d1294f3",
   "metadata": {},
   "outputs": [],
   "source": [
    "# Árvore de Decisão Balanceada\n",
    "tree_clf = DecisionTreeClassifier(random_state=42, max_depth=5, class_weight='balanced')\n",
    "tree_clf.fit(X_train, y_train)"
   ]
  },
  {
   "cell_type": "markdown",
   "id": "e89c9cca",
   "metadata": {},
   "source": [
    "---\n",
    "\n",
    "## 6. Avaliação dos Modelos"
   ]
  },
  {
   "cell_type": "markdown",
   "id": "4d7e430f",
   "metadata": {},
   "source": [
    "### 📊 Avaliação dos Modelos: Métricas e Interpretações\n",
    "\n",
    "Agora que ambos os modelos foram treinados e testados, vamos comparar seus resultados e discutir a escolha da métrica mais importante para o nosso problema.\n",
    "\n",
    "Antes da comparação direta, é fundamental entender **o que significa cada métrica**. Isso garante que tomemos decisões com base em critérios corretos, especialmente em um contexto clínico como o de detecção de diabetes.\n",
    "\n",
    "\n",
    "#### 🧱 A Base de Tudo: Matriz de Confusão\n",
    "\n",
    "A matriz de confusão é uma tabela 2x2 que compara o valor **real** com o valor **previsto** pelo modelo.  \n",
    "**Compreender essa estrutura é essencial para interpretar todas as métricas derivadas.**\n",
    "\n",
    "|                            | **Previsto: Não Diabético** | **Previsto: Diabético** |\n",
    "|----------------------------|-----------------------------|--------------------------|\n",
    "| **Real: Não Diabético**    | **Verdadeiro Negativo (VN)**<br>*Acerto: não tinha, e o modelo disse que não tinha.* | **Falso Positivo (FP)**<br>*Erro: não tinha, mas o modelo disse que tinha.* (**Alarme Falso**) |\n",
    "| **Real: Diabético**        | **Falso Negativo (FN)**<br>*Erro: tinha, mas o modelo disse que não tinha.* (**O Pior Erro!**) | **Verdadeiro Positivo (VP)**<br>*Acerto: tinha, e o modelo disse que tinha.* |\n",
    "\n",
    "\n",
    "\n",
    "### 🔍 Métricas Derivadas da Matriz de Confusão\n",
    "\n",
    "Abaixo, as principais métricas usadas para avaliar classificadores — especialmente em cenários de saúde, onde erros têm consequências sérias.\n",
    "\n",
    "\n",
    "\n",
    "#### 🎯 **Acurácia (Accuracy)**\n",
    "\n",
    "- **Fórmula:** `(VP + VN) / Total`\n",
    "- **Tradução:** \"De todas as previsões feitas, quantas estavam corretas?\"\n",
    "- ⚠️ **Atenção:** Pode ser enganosa em conjuntos de dados desbalanceados.\n",
    "  - Exemplo: Se 90% dos pacientes são saudáveis, um modelo que sempre prevê \"Saudável\" terá 90% de acurácia — mas é inútil.\n",
    "\n",
    "\n",
    "#### 🎯 **Precisão (Precision)**\n",
    "\n",
    "- **Fórmula:** `VP / (VP + FP)`\n",
    "- **Tradução:** \"De todos os pacientes que o modelo previu como **Diabéticos**, quantos realmente eram?\"\n",
    "- **Importância:** Alta precisão é essencial quando **falsos positivos são problemáticos**, como em:\n",
    "  - Cirurgias arriscadas\n",
    "  - Exames caros ou invasivos\n",
    "\n",
    "\n",
    "#### 🎯 **Recall (Sensibilidade ou Revocação)**\n",
    "\n",
    "- **Fórmula:** `VP / (VP + FN)`\n",
    "- **Tradução:** \"De todos os **diabéticos reais**, quantos o modelo conseguiu identificar?\"\n",
    "- **Importância:** Alta sensibilidade é vital quando **falsos negativos são inaceitáveis**, como em:\n",
    "  - Diagnóstico precoce de doenças\n",
    "  - Triagem de pacientes\n",
    "\n",
    "\n",
    "#### 🎯 **F1-Score**\n",
    "\n",
    "- **Fórmula:** Média harmônica entre Precisão e Recall\n",
    "- **Tradução:** Uma métrica que busca equilibrar os dois mundos\n",
    "- **Quando usar:** Quando há desbalanceamento e **você se importa com precisão e recall ao mesmo tempo**\n",
    "\n",
    "\n",
    "#### 🎯 **Support**\n",
    "\n",
    "- **Definição:** Quantidade de amostras reais de cada classe nos dados de teste.\n",
    "- **Importância:** Dá contexto às métricas — uma precisão de 90% com apenas 10 amostras (support=10) não é estatisticamente confiável.\n",
    "\n",
    "\n",
    "#### 🎯 **AUC (Área Sob a Curva ROC)**\n",
    "\n",
    "- **O que mede:** A habilidade geral do modelo de **diferenciar entre classes** em vários limiares de decisão.\n",
    "- **Interpretação:**\n",
    "  - `0.5`: Modelo aleatório\n",
    "  - `1.0`: Classificador perfeito\n",
    "- **Por que é útil:** Fornece uma **visão global do desempenho do modelo**, especialmente em dados desbalanceados.\n",
    "\n",
    "\n",
    "### 🧾 Resumo Estratégico\n",
    "\n",
    "- ✅ Use a **Matriz de Confusão** para entender os tipos de erro\n",
    "- ✅ Cuidado com a **Acurácia** em datasets desbalanceados\n",
    "- ✅ **Precision** é importante qua\n"
   ]
  },
  {
   "cell_type": "markdown",
   "id": "9efaff3f",
   "metadata": {},
   "source": [
    "#### **6.1. Modelo 1: Regressão Logística**"
   ]
  },
  {
   "cell_type": "code",
   "execution_count": null,
   "id": "c5401be1",
   "metadata": {},
   "outputs": [],
   "source": [
    "print(\"--- Resultados da Regressão Logística Balanceada ---\")\n",
    "y_pred_log = log_reg.predict(X_test_scaled)\n",
    "\n",
    "accuracy_lr = accuracy_score(y_test, y_pred_log)\n",
    "recall_lr = recall_score(y_test, y_pred_log)\n",
    "f1_lr = f1_score(y_test, y_pred_log)\n",
    "\n",
    "print(f\"Acurácia: {accuracy_lr:.4f}\")\n",
    "print(f\"Recall: {recall_lr:.4f}\")\n",
    "print(f\"F1-Score: {f1_lr:.4f}\")\n",
    "\n",
    "print(\"\\nRelatório de Classificação:\")\n",
    "print(classification_report(y_test, y_pred_log, target_names=['Não Diabético', 'Diabético']))\n",
    "\n",
    "sns.heatmap(confusion_matrix(y_test, y_pred_log), annot=True, fmt='d', cmap='Blues').set_title('Matriz de Confusão - Regressão Logística')\n",
    "plt.show()"
   ]
  },
  {
   "cell_type": "markdown",
   "id": "175e5e67",
   "metadata": {},
   "source": [
    "#### 📋 Explicação das Métricas\n",
    "\n",
    "A seguir, detalhamos as principais métricas obtidas após a avaliação do modelo. Cada uma delas fornece uma perspectiva diferente sobre a performance do classificador — e, juntas, permitem uma análise mais precisa e contextualizada.\n",
    "\n",
    "### 🎯 **Precision (Precisão)**\n",
    "\n",
    "Indica a proporção de previsões positivas que realmente eram corretas.\n",
    "\n",
    "- **Classe 0 — Não Diabético (0.82):**  \n",
    "  Quando o modelo previu que um paciente **não era diabético**, ele estava **certo em 82% dos casos**.  \n",
    "  ✅ Alta precisão, ou seja, **poucos falsos positivos** para essa classe.\n",
    "\n",
    "- **Classe 1 — Diabético (0.60):**  \n",
    "  Quando o modelo previu que um paciente **era diabético**, ele acertou **60% das vezes**.  \n",
    "  ⚠️ Isso significa que **40% dos casos foram falsos positivos** — pacientes saudáveis erroneamente classificados como doentes.  \n",
    "  Esse valor ainda é aceitável em cenários de triagem, onde **é melhor gerar alguns alarmes falsos do que deixar de identificar um caso verdadeiro**.\n",
    "\n",
    "\n",
    "### 🧠 **Recall (Sensibilidade / Revocação)**\n",
    "\n",
    "Mede a capacidade do modelo de encontrar **todos os casos reais** de uma classe.\n",
    "\n",
    "- **Classe 0 — Não Diabético (0.75):**  \n",
    "  O modelo identificou corretamente **75% dos pacientes que realmente não eram diabéticos**.\n",
    "\n",
    "- **Classe 1 — Diabético (0.70):**  \n",
    "  O modelo conseguiu identificar **70% dos pacientes que realmente eram diabéticos**.  \n",
    "  ✅ Este valor é especialmente importante no contexto do problema, pois **reflete a capacidade do modelo de detectar casos positivos reais**.  \n",
    "  Um recall de 70% é considerado **muito bom para uma ferramenta de triagem clínica**, onde **deixar um doente passar despercebido é o pior cenário possível**.\n",
    "\n",
    "\n",
    "### ⚖️ **F1-Score**\n",
    "\n",
    "É a **média harmônica** entre precisão e recall — serve como uma métrica de equilíbrio.\n",
    "\n",
    "- **Classe 1 — Diabético (F1 = 0.65):**  \n",
    "  Indica um **bom compromisso entre identificar os doentes (recall)** e **evitar alarmes falsos (precisão)**.  \n",
    "  ✅ Um F1-score acima de 0.60, especialmente em dados clínicos desbalanceados, já é considerado um desempenho relevante.\n",
    "\n",
    "\n",
    "### 📈 **Accuracy (Acurácia Geral)**\n",
    "\n",
    "- O modelo acertou a classificação (positiva ou negativa) de **73% de todos os pacientes** do conjunto de teste.\n",
    "- ⚠️ Embora seja uma métrica intuitiva, ela deve ser analisada com cuidado, **pois pode mascarar problemas em datasets desbalanceados**.\n",
    "\n",
    "\n",
    "### 🔢 **Support**\n",
    "\n",
    "Mostra a quantidade de exemplos reais de cada classe no conjunto de teste:\n",
    "\n",
    "- **Não Diabéticos:** 100 pacientes  \n",
    "- **Diabéticos:** 54 pacientes\n",
    "\n",
    "Essa informação é essencial para **avaliar a confiabilidade das métricas**. Por exemplo, uma alta precisão em uma classe com pouquíssimos exemplos pode ser estatisticamente frágil.\n",
    "\n",
    "\n",
    "Essas métricas mostram que o modelo tem uma performance **consistente e equilibrada**, com bom desempenho na detecção de casos positivos — o que é especialmente desejável em um cenário de **triagem médica para diagnóstico de diabetes**.\n"
   ]
  },
  {
   "cell_type": "markdown",
   "id": "9eea05c2",
   "metadata": {},
   "source": [
    "#### **6.1. Modelo 2: Árvore de Decisão**"
   ]
  },
  {
   "cell_type": "code",
   "execution_count": null,
   "id": "a700009f",
   "metadata": {},
   "outputs": [],
   "source": [
    "print(\"\\n--- Resultados da Árvore de Decisão Balanceada ---\")\n",
    "y_pred_tree = tree_clf.predict(X_test)\n",
    "print(classification_report(y_test, y_pred_tree, target_names=['Não Diabético', 'Diabético']))\n",
    "sns.heatmap(confusion_matrix(y_test, y_pred_tree), annot=True, fmt='d', cmap='Greens').set_title('Matriz de Confusão - Árvore de Decisão')\n",
    "plt.show()"
   ]
  },
  {
   "cell_type": "markdown",
   "id": "e5f6fe2b",
   "metadata": {},
   "source": [
    "#### 📋 Explicação das Métricas\n",
    "\n",
    "Agora analisamos o desempenho de um segundo modelo (por exemplo, uma árvore de decisão ou random forest), comparando seus resultados com o modelo anterior (Regressão Logística). Embora ambos tenham a **mesma acurácia geral**, seu comportamento frente à classe **positiva (diabéticos)** é bastante distinto.\n",
    "\n",
    "\n",
    "### 🎯 **Precision (Precisão)**\n",
    "\n",
    "Indica a proporção de previsões positivas que estavam corretas.\n",
    "\n",
    "- **Classe 0 — Não Diabético (0.79):**  \n",
    "  Quando o modelo previu que um paciente **não era diabético**, ele acertou em **79% dos casos**.  \n",
    "  ✅ Uma boa precisão, levemente inferior ao modelo anterior.\n",
    "\n",
    "- **Classe 1 — Diabético (0.61):**  \n",
    "  Quando o modelo previu que alguém era diabético, ele acertou **61% das vezes**.  \n",
    "  ✅ Esse valor é **ligeiramente superior ao da Regressão Logística (60%)**, indicando que **gera menos falsos positivos**.\n",
    "\n",
    "\n",
    "\n",
    "### 🧠 **Recall (Sensibilidade / Revocação)**\n",
    "\n",
    "Mede a capacidade do modelo de **encontrar todos os casos reais** de uma classe.\n",
    "\n",
    "- **Classe 0 — Não Diabético (0.79):**  \n",
    "  O modelo identificou corretamente **79% dos pacientes saudáveis**.\n",
    "\n",
    "- **Classe 1 — Diabético (0.61):**  \n",
    "  O modelo conseguiu identificar **apenas 61% dos pacientes diabéticos** — o que representa uma **queda em relação à Regressão Logística (70%)**.  \n",
    "  ⚠️ Isso significa que **mais paciente**\n"
   ]
  },
  {
   "cell_type": "markdown",
   "id": "4ea45017",
   "metadata": {},
   "source": [
    "## 7. Interpretação e Conclusão"
   ]
  },
  {
   "cell_type": "code",
   "execution_count": null,
   "id": "cdf72330",
   "metadata": {},
   "outputs": [],
   "source": [
    "feature_importances = pd.DataFrame({\n",
    "    'feature': X.columns,\n",
    "    'importance': tree_clf.feature_importances_\n",
    "}).sort_values('importance', ascending=False)\n",
    "\n",
    "plt.figure(figsize=(12, 8))\n",
    "sns.barplot(x='importance', y='feature', data=feature_importances, palette='inferno')\n",
    "plt.title('Importância das Features (Árvore de Decisão)', fontsize=16)\n",
    "plt.show()"
   ]
  },
  {
   "cell_type": "markdown",
   "id": "ac03b14b",
   "metadata": {},
   "source": [
    "## ✅ Conclusão Final\n",
    "\n",
    "### **📌 Principais Achados**\n",
    "\n",
    "1. **🧼 Limpeza de Dados foi Crucial**  \n",
    "   A substituição dos valores `0` por `NaN` e sua posterior imputação com a mediana foi **fundamental para corrigir distorções estatísticas e evitar viés no treinamento dos modelos**. Sem essa etapa, os algoritmos aprenderiam com dados fisiologicamente impossíveis.\n",
    "\n",
    "2. **🔍 Fatores de Risco Confirmados**  \n",
    "   A análise exploratória e a matriz de correlação confirmaram que as variáveis `Glucose`, `BMI` (Índice de Massa Corporal) e `Age` são os **principais preditores do diagnóstico de diabetes**, o que está em **pleno alinhamento com a literatura médica**. Isso valida tanto o dataset quanto as decisões de modelagem.\n",
    "\n",
    "3. **⚖️ Balanceamento de Classes Funciona**  \n",
    "   O uso de `class_weight='balanced'` permitiu que os modelos **tratassem a classe minoritária (Diabético) com mais atenção**, melhorando métricas como *recall* sem comprometer gravemente a precisão.  \n",
    "   Essa abordagem foi **essencial para lidar com o desbalanceamento natural do dataset (65% vs 35%)**.\n",
    "\n",
    "\n",
    "### 🩺 **Objetivo do Projeto: Recall Acima de Tudo**\n",
    "\n",
    "Em um contexto de diagnóstico médico, **o recall da classe positiva é a métrica mais crítica**.  \n",
    "⚠️ **Falsos negativos podem ter consequências graves**, enquanto falsos positivos geram apenas exames adicionais.\n",
    "\n",
    "**🔑 Diretriz do projeto:**  \n",
    "> \"É preferível gerar um alarme falso do que deixar de identificar um paciente doente.\"\n",
    "\n",
    "\n",
    "### 🧪 **Modelo Escolhido: Regressão Logística**\n",
    "\n",
    "Apesar de ter uma precisão ligeiramente menor na classe \"Diabético\", a **Regressão Logística** apresentou:\n",
    "- **Recall = 70%**, contra **61% da Árvore de Decisão**\n",
    "- **F1-score superior**\n",
    "- Comportamento mais consistente na detecção de casos positivos\n",
    "\n",
    "✅ Isso a torna a **ferramenta mais segura e eficaz para triagem inicial de diabetes** entre os modelos testados neste projeto.\n",
    "\n",
    "\n",
    "### 🛠️ Próximos Passos (Sugestões)\n",
    "\n",
    "- Testar técnicas de **oversampling (ex: SMOTE)** para comparar com `class_weight`\n",
    "- Avaliar modelos mais complexos como **XGBoost** e **LightGBM**\n",
    "- Implementar validação cruzada estratificada para maior robustez\n",
    "- Otimizar thresholds de decisão com base na curva ROC"
   ]
  }
 ],
 "metadata": {
  "kernelspec": {
   "display_name": "venv",
   "language": "python",
   "name": "python3"
  },
  "language_info": {
   "codemirror_mode": {
    "name": "ipython",
    "version": 3
   },
   "file_extension": ".py",
   "mimetype": "text/x-python",
   "name": "python",
   "nbconvert_exporter": "python",
   "pygments_lexer": "ipython3",
   "version": "3.10.9"
  }
 },
 "nbformat": 4,
 "nbformat_minor": 5
}
